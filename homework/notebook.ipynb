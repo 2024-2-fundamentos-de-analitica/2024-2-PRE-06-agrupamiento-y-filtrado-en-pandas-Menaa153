{
 "cells": [
  {
   "cell_type": "code",
   "execution_count": null,
   "metadata": {},
   "outputs": [],
   "source": [
    "# Preparacion\n",
    "import matplotlib\n",
    "import matplotlib.pyplot as plt\n",
    "import pandas as pd"
   ]
  },
  {
   "cell_type": "code",
   "execution_count": null,
   "metadata": {},
   "outputs": [],
   "source": [
    "# Carga de la tabla drivers\n",
    "drivers = pd.read_csv(\n",
    "    \"../files/input/drivers.csv\",\n",
    "    sep=\",\",\n",
    "    thousands=None,\n",
    "    decimal=\".\",\n",
    ")\n",
    "drivers.head()"
   ]
  },
  {
   "cell_type": "code",
   "execution_count": null,
   "metadata": {},
   "outputs": [],
   "source": [
    "# Carga de la tabla timesheet\n",
    "timesheet = pd.read_csv(\n",
    "    \"../files/input/timesheet.csv\",\n",
    "    sep=\",\",\n",
    "    thousands=None,\n",
    "    decimal=\".\",\n",
    ")\n",
    "timesheet.head()"
   ]
  },
  {
   "cell_type": "code",
   "execution_count": null,
   "metadata": {},
   "outputs": [],
   "source": [
    "# Carga de la tabla timesheet\n",
    "timesheet = pd.read_csv(\n",
    "    \"../files/input/timesheet.csv\",\n",
    "    sep=\",\",\n",
    "    thousands=None,\n",
    "    decimal=\".\",\n",
    ")\n",
    "timesheet.head(20)"
   ]
  },
  {
   "cell_type": "code",
   "execution_count": null,
   "metadata": {},
   "outputs": [],
   "source": [
    "# Media de la cantidad de horas y millas de cada conductor por año\n",
    "mean_timesheet = timesheet.groupby(\"driverId\").mean()\n",
    "mean_timesheet.head()"
   ]
  },
  {
   "cell_type": "code",
   "execution_count": null,
   "metadata": {},
   "outputs": [],
   "source": [
    "# Eliminación de la columna 'week'\n",
    "mean_timesheet.pop(\"week\")\n",
    "mean_timesheet.head()"
   ]
  },
  {
   "cell_type": "code",
   "execution_count": null,
   "metadata": {},
   "outputs": [],
   "source": [
    "# Registros con valores por debajo de la media del grupo\n",
    "mean_hours_logged_by_driver = timesheet.groupby(\"driverId\")[\"hours-logged\"].transform(\n",
    "    \"mean\"\n",
    ")\n",
    "mean_hours_logged_by_driver.head()"
   ]
  },
  {
   "cell_type": "code",
   "execution_count": null,
   "metadata": {},
   "outputs": [],
   "source": [
    "timesheet_with_means = timesheet.copy()\n",
    "timesheet_with_means[\"mean_hours-logged\"] = mean_hours_logged_by_driver\n",
    "timesheet_with_means.head()\n"
   ]
  },
  {
   "cell_type": "code",
   "execution_count": null,
   "metadata": {},
   "outputs": [],
   "source": [
    "\n",
    "timesheet_with_means.tail(15)"
   ]
  },
  {
   "cell_type": "code",
   "execution_count": null,
   "metadata": {},
   "outputs": [],
   "source": [
    "timesheet_below = timesheet_with_means[\n",
    "    timesheet_with_means[\"hours-logged\"] < timesheet_with_means[\"mean_hours-logged\"]\n",
    "]\n",
    "display(timesheet_below.head(), timesheet_below.tail())"
   ]
  },
  {
   "cell_type": "code",
   "execution_count": null,
   "metadata": {},
   "outputs": [],
   "source": [
    "# Cómputo de la cantidad de horas y millas de cada conductor por año\n",
    "sum_timesheet = timesheet.groupby(\"driverId\").sum()\n",
    "sum_timesheet.head(10)"
   ]
  },
  {
   "cell_type": "code",
   "execution_count": null,
   "metadata": {},
   "outputs": [],
   "source": [
    "\n",
    "sum_timesheet = sum_timesheet[[\"hours-logged\", \"miles-logged\"]]\n",
    "sum_timesheet.head()"
   ]
  },
  {
   "cell_type": "code",
   "execution_count": null,
   "metadata": {},
   "outputs": [],
   "source": [
    "timesheet.groupby(\"driverId\")[\"hours-logged\"].agg([\"min\", \"max\"])"
   ]
  },
  {
   "cell_type": "code",
   "execution_count": null,
   "metadata": {},
   "outputs": [],
   "source": [
    "sum_timesheet.head()"
   ]
  },
  {
   "cell_type": "code",
   "execution_count": null,
   "metadata": {},
   "outputs": [],
   "source": [
    "\n",
    "# Unión de las tablas usando join\n",
    "summary = pd.merge(\n",
    "    sum_timesheet,\n",
    "    drivers[[\"driverId\", \"name\"]],\n",
    "    on=\"driverId\",\n",
    ")\n",
    "summary"
   ]
  },
  {
   "cell_type": "code",
   "execution_count": null,
   "metadata": {},
   "outputs": [],
   "source": [
    "# Almacenamiento de los resultados\n",
    "import os\n",
    "\n",
    "if not os.path.exists(\"../files/output\"):\n",
    "    os.makedirs(\"../files/output\")\n",
    "\n",
    "summary.to_csv(\n",
    "    \"../files/output/summary.csv\",\n",
    "    sep=\",\",\n",
    "    header=True,\n",
    "    index=False,\n",
    ")"
   ]
  },
  {
   "cell_type": "code",
   "execution_count": null,
   "metadata": {},
   "outputs": [],
   "source": [
    "\n",
    "# Ordenamiento por la cantidad de millas registradas\n",
    "top10 = summary.sort_values(by=\"miles-logged\", ascending=False).head(10)\n",
    "top10\n"
   ]
  },
  {
   "cell_type": "code",
   "execution_count": null,
   "metadata": {},
   "outputs": [],
   "source": [
    "# Paleta de colores:\n",
    "#   tab:blue     tab:red       tab:pink\n",
    "#   tab:orange   tab:purple    tab:gray\n",
    "#   tab:green    tab:brown     tab:olive\n",
    "#   tab:cyan\n",
    "top10[\"miles-logged\"].plot.barh(color=\"tab:orange\", alpha=0.3)\n",
    "\n",
    "plt.gca().invert_yaxis()\n",
    "\n",
    "plt.gca().get_xaxis().set_major_formatter(\n",
    "    matplotlib.ticker.FuncFormatter(lambda x, p: format(int(x), \",\"))\n",
    ")\n",
    "\n",
    "plt.xticks(rotation=90)\n",
    "\n",
    "plt.gca().spines[\"left\"].set_color(\"lightgray\")\n",
    "plt.gca().spines[\"bottom\"].set_color(\"gray\")\n",
    "plt.gca().spines[\"top\"].set_visible(False)\n",
    "plt.gca().spines[\"right\"].set_visible(False)\n",
    "\n",
    "if not os.path.exists(\"../files/plots\"):\n",
    "    os.makedirs(\"../files/plots\")\n",
    "\n",
    "plt.savefig(\"../files/plots/top10_drivers.png\", bbox_inches=\"tight\")"
   ]
  }
 ],
 "metadata": {
  "kernelspec": {
   "display_name": ".venv",
   "language": "python",
   "name": "python3"
  },
  "language_info": {
   "name": "python",
   "version": "3.11.1"
  }
 },
 "nbformat": 4,
 "nbformat_minor": 2
}
